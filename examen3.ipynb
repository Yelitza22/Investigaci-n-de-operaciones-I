{
  "cells": [
    {
      "cell_type": "markdown",
      "metadata": {
        "id": "view-in-github",
        "colab_type": "text"
      },
      "source": [
        "<a href=\"https://colab.research.google.com/github/Yelitza22/Investigaci-n-de-operaciones-I/blob/main/examen3.ipynb\" target=\"_parent\"><img src=\"https://colab.research.google.com/assets/colab-badge.svg\" alt=\"Open In Colab\"/></a>"
      ]
    },
    {
      "cell_type": "markdown",
      "metadata": {
        "id": "TvgneO4H0hEV"
      },
      "source": [
        "\n",
        "# Tercer parcial\n",
        "### Marai Yelitza Olvera Oliva"
      ]
    },
    {
      "cell_type": "markdown",
      "metadata": {
        "id": "XMEXoQJu0hEX"
      },
      "source": [
        "- Cree una libreta de jupyter y cargue el archivo en un dataframe, al ser un archivo muy grande, es mejor cargarlo con la bandera low_memory=false de la siguiente manera:\n",
        "\n",
        "El archivo contiene muchas columnas, un catalogo completo de que significa cada columna esta en el archivo catálogos que creo el INEGI que adjunto por cuestión informativa aunque irrelevante para el ejercicio. La estructura del archivo esta hecha de modo que cada fila contiene información por localidades de todo el país."
      ]
    },
    {
      "cell_type": "code",
      "execution_count": null,
      "metadata": {
        "id": "4PPjkflG0hEY",
        "outputId": "cc7a4cdd-a5bb-431b-d634-d678ddfcd0fc"
      },
      "outputs": [
        {
          "data": {
            "text/html": [
              "<div>\n",
              "<style scoped>\n",
              "    .dataframe tbody tr th:only-of-type {\n",
              "        vertical-align: middle;\n",
              "    }\n",
              "\n",
              "    .dataframe tbody tr th {\n",
              "        vertical-align: top;\n",
              "    }\n",
              "\n",
              "    .dataframe thead th {\n",
              "        text-align: right;\n",
              "    }\n",
              "</style>\n",
              "<table border=\"1\" class=\"dataframe\">\n",
              "  <thead>\n",
              "    <tr style=\"text-align: right;\">\n",
              "      <th></th>\n",
              "      <th>ENTIDAD</th>\n",
              "      <th>NOM_ENT</th>\n",
              "      <th>MUN</th>\n",
              "      <th>NOM_MUN</th>\n",
              "      <th>LOC</th>\n",
              "      <th>NOM_LOC</th>\n",
              "      <th>LONGITUD</th>\n",
              "      <th>LATITUD</th>\n",
              "      <th>ALTITUD</th>\n",
              "      <th>POBTOT</th>\n",
              "      <th>...</th>\n",
              "      <th>VPH_CEL</th>\n",
              "      <th>VPH_INTER</th>\n",
              "      <th>VPH_STVP</th>\n",
              "      <th>VPH_SPMVPI</th>\n",
              "      <th>VPH_CVJ</th>\n",
              "      <th>VPH_SINRTV</th>\n",
              "      <th>VPH_SINLTC</th>\n",
              "      <th>VPH_SINCINT</th>\n",
              "      <th>VPH_SINTIC</th>\n",
              "      <th>TAMLOC</th>\n",
              "    </tr>\n",
              "  </thead>\n",
              "  <tbody>\n",
              "    <tr>\n",
              "      <th>0</th>\n",
              "      <td>1</td>\n",
              "      <td>Aguascalientes</td>\n",
              "      <td>1</td>\n",
              "      <td>Aguascalientes</td>\n",
              "      <td>1</td>\n",
              "      <td>Aguascalientes</td>\n",
              "      <td>102°17'45.768\" W</td>\n",
              "      <td>21°52'47.362\" N</td>\n",
              "      <td>1878</td>\n",
              "      <td>863893</td>\n",
              "      <td>...</td>\n",
              "      <td>232793</td>\n",
              "      <td>169675</td>\n",
              "      <td>123670</td>\n",
              "      <td>77719</td>\n",
              "      <td>53589</td>\n",
              "      <td>2995</td>\n",
              "      <td>5984</td>\n",
              "      <td>63661</td>\n",
              "      <td>595</td>\n",
              "      <td>13</td>\n",
              "    </tr>\n",
              "    <tr>\n",
              "      <th>1</th>\n",
              "      <td>1</td>\n",
              "      <td>Aguascalientes</td>\n",
              "      <td>1</td>\n",
              "      <td>Aguascalientes</td>\n",
              "      <td>94</td>\n",
              "      <td>Granja Adelita</td>\n",
              "      <td>102°22'24.710\" W</td>\n",
              "      <td>21°52'18.749\" N</td>\n",
              "      <td>1902</td>\n",
              "      <td>5</td>\n",
              "      <td>...</td>\n",
              "      <td>*</td>\n",
              "      <td>*</td>\n",
              "      <td>*</td>\n",
              "      <td>*</td>\n",
              "      <td>*</td>\n",
              "      <td>*</td>\n",
              "      <td>*</td>\n",
              "      <td>*</td>\n",
              "      <td>*</td>\n",
              "      <td>1</td>\n",
              "    </tr>\n",
              "    <tr>\n",
              "      <th>2</th>\n",
              "      <td>1</td>\n",
              "      <td>Aguascalientes</td>\n",
              "      <td>1</td>\n",
              "      <td>Aguascalientes</td>\n",
              "      <td>96</td>\n",
              "      <td>Agua Azul</td>\n",
              "      <td>102°21'25.639\" W</td>\n",
              "      <td>21°53'01.522\" N</td>\n",
              "      <td>1861</td>\n",
              "      <td>41</td>\n",
              "      <td>...</td>\n",
              "      <td>11</td>\n",
              "      <td>4</td>\n",
              "      <td>5</td>\n",
              "      <td>2</td>\n",
              "      <td>1</td>\n",
              "      <td>0</td>\n",
              "      <td>1</td>\n",
              "      <td>6</td>\n",
              "      <td>0</td>\n",
              "      <td>1</td>\n",
              "    </tr>\n",
              "    <tr>\n",
              "      <th>3</th>\n",
              "      <td>1</td>\n",
              "      <td>Aguascalientes</td>\n",
              "      <td>1</td>\n",
              "      <td>Aguascalientes</td>\n",
              "      <td>102</td>\n",
              "      <td>Los Arbolitos [Rancho]</td>\n",
              "      <td>102°21'26.261\" W</td>\n",
              "      <td>21°46'48.650\" N</td>\n",
              "      <td>1861</td>\n",
              "      <td>8</td>\n",
              "      <td>...</td>\n",
              "      <td>*</td>\n",
              "      <td>*</td>\n",
              "      <td>*</td>\n",
              "      <td>*</td>\n",
              "      <td>*</td>\n",
              "      <td>*</td>\n",
              "      <td>*</td>\n",
              "      <td>*</td>\n",
              "      <td>*</td>\n",
              "      <td>1</td>\n",
              "    </tr>\n",
              "    <tr>\n",
              "      <th>4</th>\n",
              "      <td>1</td>\n",
              "      <td>Aguascalientes</td>\n",
              "      <td>1</td>\n",
              "      <td>Aguascalientes</td>\n",
              "      <td>104</td>\n",
              "      <td>Ardillas de Abajo (Las Ardillas)</td>\n",
              "      <td>102°11'30.914\" W</td>\n",
              "      <td>21°56'42.243\" N</td>\n",
              "      <td>1989</td>\n",
              "      <td>1</td>\n",
              "      <td>...</td>\n",
              "      <td>*</td>\n",
              "      <td>*</td>\n",
              "      <td>*</td>\n",
              "      <td>*</td>\n",
              "      <td>*</td>\n",
              "      <td>*</td>\n",
              "      <td>*</td>\n",
              "      <td>*</td>\n",
              "      <td>*</td>\n",
              "      <td>1</td>\n",
              "    </tr>\n",
              "  </tbody>\n",
              "</table>\n",
              "<p>5 rows × 286 columns</p>\n",
              "</div>"
            ],
            "text/plain": [
              "   ENTIDAD         NOM_ENT  MUN         NOM_MUN  LOC  \\\n",
              "0        1  Aguascalientes    1  Aguascalientes    1   \n",
              "1        1  Aguascalientes    1  Aguascalientes   94   \n",
              "2        1  Aguascalientes    1  Aguascalientes   96   \n",
              "3        1  Aguascalientes    1  Aguascalientes  102   \n",
              "4        1  Aguascalientes    1  Aguascalientes  104   \n",
              "\n",
              "                            NOM_LOC          LONGITUD          LATITUD  \\\n",
              "0                    Aguascalientes  102°17'45.768\" W  21°52'47.362\" N   \n",
              "1                    Granja Adelita  102°22'24.710\" W  21°52'18.749\" N   \n",
              "2                         Agua Azul  102°21'25.639\" W  21°53'01.522\" N   \n",
              "3            Los Arbolitos [Rancho]  102°21'26.261\" W  21°46'48.650\" N   \n",
              "4  Ardillas de Abajo (Las Ardillas)  102°11'30.914\" W  21°56'42.243\" N   \n",
              "\n",
              "  ALTITUD  POBTOT  ... VPH_CEL VPH_INTER VPH_STVP VPH_SPMVPI VPH_CVJ  \\\n",
              "0    1878  863893  ...  232793    169675   123670      77719   53589   \n",
              "1    1902       5  ...       *         *        *          *       *   \n",
              "2    1861      41  ...      11         4        5          2       1   \n",
              "3    1861       8  ...       *         *        *          *       *   \n",
              "4    1989       1  ...       *         *        *          *       *   \n",
              "\n",
              "  VPH_SINRTV VPH_SINLTC VPH_SINCINT VPH_SINTIC TAMLOC  \n",
              "0       2995       5984       63661        595     13  \n",
              "1          *          *           *          *      1  \n",
              "2          0          1           6          0      1  \n",
              "3          *          *           *          *      1  \n",
              "4          *          *           *          *      1  \n",
              "\n",
              "[5 rows x 286 columns]"
            ]
          },
          "execution_count": 10,
          "metadata": {},
          "output_type": "execute_result"
        }
      ],
      "source": [
        "import pandas as pd\n",
        "\n",
        "data = pd.read_csv('datos.csv', low_memory=False)\n",
        "\n",
        "data.head()"
      ]
    },
    {
      "cell_type": "markdown",
      "metadata": {
        "id": "gZk9dR590hEa"
      },
      "source": [
        "- Cree un nuevo dataframe que solo contenga las columnas, NOM_ENT, NOM_LOC, POBTOT, POBFEM, POBMAS, VIVTOT"
      ]
    },
    {
      "cell_type": "code",
      "execution_count": null,
      "metadata": {
        "id": "ICbcICzE0hEa",
        "outputId": "1b26b9ed-405f-470a-8e03-50cff206736b"
      },
      "outputs": [
        {
          "data": {
            "text/html": [
              "<div>\n",
              "<style scoped>\n",
              "    .dataframe tbody tr th:only-of-type {\n",
              "        vertical-align: middle;\n",
              "    }\n",
              "\n",
              "    .dataframe tbody tr th {\n",
              "        vertical-align: top;\n",
              "    }\n",
              "\n",
              "    .dataframe thead th {\n",
              "        text-align: right;\n",
              "    }\n",
              "</style>\n",
              "<table border=\"1\" class=\"dataframe\">\n",
              "  <thead>\n",
              "    <tr style=\"text-align: right;\">\n",
              "      <th></th>\n",
              "      <th>NOM_ENT</th>\n",
              "      <th>NOM_LOC</th>\n",
              "      <th>POBTOT</th>\n",
              "      <th>POBFEM</th>\n",
              "      <th>POBMAS</th>\n",
              "      <th>VIVTOT</th>\n",
              "    </tr>\n",
              "  </thead>\n",
              "  <tbody>\n",
              "    <tr>\n",
              "      <th>0</th>\n",
              "      <td>Aguascalientes</td>\n",
              "      <td>Aguascalientes</td>\n",
              "      <td>863893</td>\n",
              "      <td>444725</td>\n",
              "      <td>419168</td>\n",
              "      <td>286646</td>\n",
              "    </tr>\n",
              "    <tr>\n",
              "      <th>1</th>\n",
              "      <td>Aguascalientes</td>\n",
              "      <td>Granja Adelita</td>\n",
              "      <td>5</td>\n",
              "      <td>*</td>\n",
              "      <td>*</td>\n",
              "      <td>3</td>\n",
              "    </tr>\n",
              "    <tr>\n",
              "      <th>2</th>\n",
              "      <td>Aguascalientes</td>\n",
              "      <td>Agua Azul</td>\n",
              "      <td>41</td>\n",
              "      <td>17</td>\n",
              "      <td>24</td>\n",
              "      <td>15</td>\n",
              "    </tr>\n",
              "    <tr>\n",
              "      <th>3</th>\n",
              "      <td>Aguascalientes</td>\n",
              "      <td>Los Arbolitos [Rancho]</td>\n",
              "      <td>8</td>\n",
              "      <td>*</td>\n",
              "      <td>*</td>\n",
              "      <td>2</td>\n",
              "    </tr>\n",
              "    <tr>\n",
              "      <th>4</th>\n",
              "      <td>Aguascalientes</td>\n",
              "      <td>Ardillas de Abajo (Las Ardillas)</td>\n",
              "      <td>1</td>\n",
              "      <td>*</td>\n",
              "      <td>*</td>\n",
              "      <td>8</td>\n",
              "    </tr>\n",
              "  </tbody>\n",
              "</table>\n",
              "</div>"
            ],
            "text/plain": [
              "          NOM_ENT                           NOM_LOC  POBTOT  POBFEM  POBMAS  \\\n",
              "0  Aguascalientes                    Aguascalientes  863893  444725  419168   \n",
              "1  Aguascalientes                    Granja Adelita       5       *       *   \n",
              "2  Aguascalientes                         Agua Azul      41      17      24   \n",
              "3  Aguascalientes            Los Arbolitos [Rancho]       8       *       *   \n",
              "4  Aguascalientes  Ardillas de Abajo (Las Ardillas)       1       *       *   \n",
              "\n",
              "   VIVTOT  \n",
              "0  286646  \n",
              "1       3  \n",
              "2      15  \n",
              "3       2  \n",
              "4       8  "
            ]
          },
          "execution_count": 11,
          "metadata": {},
          "output_type": "execute_result"
        }
      ],
      "source": [
        "filtro = ['NOM_ENT', 'NOM_LOC', 'POBTOT', 'POBFEM', 'POBMAS', 'VIVTOT']\n",
        "datos = data[filtro]\n",
        "\n",
        "datos.head()"
      ]
    },
    {
      "cell_type": "markdown",
      "metadata": {
        "id": "H12f9Psd0hEb"
      },
      "source": [
        "- Usando agg, calcule cual era la población total de todo el país en el 2020, recuerde que la población de toda la localidad esta en la columna POBTOT"
      ]
    },
    {
      "cell_type": "code",
      "execution_count": null,
      "metadata": {
        "id": "bnrgWxOD0hEc",
        "outputId": "79317919-e068-4bde-cd70-d1779c2c5c45"
      },
      "outputs": [
        {
          "name": "stdout",
          "output_type": "stream",
          "text": [
            "La población total de todo el país en el 2020 es: 126411503\n"
          ]
        }
      ],
      "source": [
        "poblacion_total = datos['POBTOT'].astype(int).agg('sum')\n",
        "print(f'La población total de todo el país en el 2020 es: {poblacion_total}')"
      ]
    },
    {
      "cell_type": "markdown",
      "metadata": {
        "id": "dq6pxQtl0hEd"
      },
      "source": [
        "- Compare la población total masculina y la población total femenina de todo el país e indique si la \"probabilidad\" real de que un bebe sea hombre o mujer si es 50-50 o se acerca a ese equilibrio, usando la columna POBFEM y POBMAS"
      ]
    },
    {
      "cell_type": "code",
      "execution_count": null,
      "metadata": {
        "id": "y5Zunzni0hEd",
        "outputId": "e0628db3-22e7-47a1-de74-7d85f16daec5"
      },
      "outputs": [
        {
          "name": "stdout",
          "output_type": "stream",
          "text": [
            "Población femenina total: 64537037\n",
            "Población masculina total: 61466053\n",
            "Porcentaje de población femenina: 51.22%\n",
            "Porcentaje de población masculina: 48.78%\n",
            "La probabilidad de que un bebé sea hombre o mujer no es exactamente 50-50, pero se acerca a ese equilibrio.\n"
          ]
        }
      ],
      "source": [
        "# Convertir las columnas POBFEM y POBMAS a enteros\n",
        "datos.loc[:, 'POBFEM'] = datos['POBFEM'].replace('*', 0).astype(int)\n",
        "datos.loc[:, 'POBMAS'] = datos['POBMAS'].replace('*', 0).astype(int)\n",
        "\n",
        "# Calcular la población total femenina y masculina\n",
        "poblacion_femenina = datos['POBFEM'].sum()\n",
        "poblacion_masculina = datos['POBMAS'].sum()\n",
        "\n",
        "# Calcular el porcentaje de cada una\n",
        "total_poblacion = poblacion_femenina + poblacion_masculina\n",
        "porcentaje_femenina = (poblacion_femenina / total_poblacion) * 100\n",
        "porcentaje_masculina = (poblacion_masculina / total_poblacion) * 100\n",
        "\n",
        "print(f'Población femenina total: {poblacion_femenina}')\n",
        "print(f'Población masculina total: {poblacion_masculina}')\n",
        "print(f'Porcentaje de población femenina: {porcentaje_femenina:.2f}%')\n",
        "print(f'Porcentaje de población masculina: {porcentaje_masculina:.2f}%')\n",
        "\n",
        "if abs(porcentaje_femenina - 50) < 1 and abs(porcentaje_masculina - 50) < 1:\n",
        "    print('La probabilidad de que un bebé sea hombre o mujer es aproximadamente 50-50.')\n",
        "else:\n",
        "    print('La probabilidad de que un bebé sea hombre o mujer no es exactamente 50-50, pero se acerca a ese equilibrio.')"
      ]
    },
    {
      "cell_type": "markdown",
      "metadata": {
        "id": "zRsUd47q0hEk"
      },
      "source": [
        "- Indique cual estado es el que tiene mas habitantes totales. (Tip: Use groupby para sumar la población por entidad y luego indique cual es la que mas pobladores tiene)"
      ]
    },
    {
      "cell_type": "code",
      "execution_count": null,
      "metadata": {
        "id": "0KydQl8N0hEk",
        "outputId": "b4fdb075-0a09-4829-ebc2-429aa8a5a0b4"
      },
      "outputs": [
        {
          "name": "stdout",
          "output_type": "stream",
          "text": [
            "El estado con más habitantes totales es: México con una población de 16999194\n"
          ]
        }
      ],
      "source": [
        "# Agrupar por entidad y sumar la población total\n",
        "poblacion_por_entidad = datos.groupby('NOM_ENT')['POBTOT'].sum()\n",
        "\n",
        "# Encontrar la entidad con la mayor población\n",
        "entidad_mas_poblada = poblacion_por_entidad.idxmax()\n",
        "poblacion_mas_alta = poblacion_por_entidad.max()\n",
        "\n",
        "print(f'El estado con más habitantes totales es: {entidad_mas_poblada} con una población de {poblacion_mas_alta}')"
      ]
    },
    {
      "cell_type": "markdown",
      "metadata": {
        "id": "ycFTy7js0hEl"
      },
      "source": [
        "- La columna VIVTOT indica cuantas viviendas existen en esa localidad, indique cual estado es el que tiene mas viviendas actualmente."
      ]
    },
    {
      "cell_type": "code",
      "execution_count": null,
      "metadata": {
        "vscode": {
          "languageId": "ruby"
        },
        "id": "4TodNZgl0hEl",
        "outputId": "ea584154-3df2-4e70-ad1f-8f77cbe54d0e"
      },
      "outputs": [
        {
          "name": "stdout",
          "output_type": "stream",
          "text": [
            "El estado con más viviendas es: México con un total de 5404303 viviendas\n"
          ]
        }
      ],
      "source": [
        "# Agrupar por entidad y sumar el total de viviendas\n",
        "viviendas_por_entidad = datos.groupby('NOM_ENT')['VIVTOT'].sum()\n",
        "\n",
        "# Encontrar la entidad con el mayor número de viviendas\n",
        "entidad_mas_viviendas = viviendas_por_entidad.idxmax()\n",
        "viviendas_mas_altas = viviendas_por_entidad.max()\n",
        "\n",
        "print(f'El estado con más viviendas es: {entidad_mas_viviendas} con un total de {viviendas_mas_altas} viviendas')"
      ]
    },
    {
      "cell_type": "markdown",
      "metadata": {
        "id": "L0JnJ0Hb0hEm"
      },
      "source": [
        "- Cuantas viviendas hay en la Ciudad de México?"
      ]
    },
    {
      "cell_type": "code",
      "execution_count": null,
      "metadata": {
        "vscode": {
          "languageId": "ruby"
        },
        "id": "XvtyfHBi0hEm",
        "outputId": "e70c1919-891f-4312-fe55-abf54068613b"
      },
      "outputs": [
        {
          "name": "stdout",
          "output_type": "stream",
          "text": [
            "El número de viviendas en la Ciudad de México es: 3036574\n"
          ]
        }
      ],
      "source": [
        "viviendas_cdmx = viviendas_por_entidad['Ciudad de México']\n",
        "print(f'El número de viviendas en la Ciudad de México es: {viviendas_cdmx}')"
      ]
    },
    {
      "cell_type": "markdown",
      "metadata": {
        "id": "L95fh8550hEm"
      },
      "source": [
        "- Cuantos habitantes hay en la Ciudad de México?"
      ]
    },
    {
      "cell_type": "code",
      "execution_count": null,
      "metadata": {
        "vscode": {
          "languageId": "ruby"
        },
        "id": "Hkt2svEq0hEn",
        "outputId": "affff15d-4e6b-498b-ee62-fa0602846c9e"
      },
      "outputs": [
        {
          "name": "stdout",
          "output_type": "stream",
          "text": [
            "El número de habitantes en la Ciudad de México es: 9210628\n"
          ]
        }
      ],
      "source": [
        "habitantes_cdmx = poblacion_por_entidad['Ciudad de México']\n",
        "print(f'El número de habitantes en la Ciudad de México es: {habitantes_cdmx}')"
      ]
    },
    {
      "cell_type": "markdown",
      "metadata": {
        "id": "DmRW7lHl0hEo"
      },
      "source": [
        "- Cuantas viviendas por persona hay en la Ciudad de México? Es decir de la razón de viviendas vs habitantes."
      ]
    },
    {
      "cell_type": "code",
      "execution_count": null,
      "metadata": {
        "vscode": {
          "languageId": "ruby"
        },
        "id": "JQwg-Vcl0hEo",
        "outputId": "b66e0af8-053f-4d3b-911b-0167016490b6"
      },
      "outputs": [
        {
          "name": "stdout",
          "output_type": "stream",
          "text": [
            "La razón de viviendas por persona en la Ciudad de México es: 0.329682\n"
          ]
        }
      ],
      "source": [
        "# Calcular la razón de viviendas por persona en la Ciudad de México\n",
        "razon_viviendas_por_persona_cdmx = viviendas_cdmx / habitantes_cdmx\n",
        "print(f'La razón de viviendas por persona en la Ciudad de México es: {razon_viviendas_por_persona_cdmx:.6f}')"
      ]
    },
    {
      "cell_type": "markdown",
      "metadata": {
        "id": "jPUGj7iG0hEo"
      },
      "source": [
        "- (Opcional) Cual estado de México tiene mas viviendas por persona, es decir siguiendo la ley de oferta-demanda, en teoría en ese estado debería ser mas barato comprar casa... en teoría."
      ]
    },
    {
      "cell_type": "code",
      "execution_count": null,
      "metadata": {
        "id": "duVTSzTz0hEp",
        "outputId": "4176d129-ac36-4359-98ee-be25111e9259"
      },
      "outputs": [
        {
          "name": "stdout",
          "output_type": "stream",
          "text": [
            "El estado con más viviendas por persona es: Morelos con una razón de 0.415834 viviendas por persona\n"
          ]
        }
      ],
      "source": [
        "# Calcular la razón de viviendas por persona para cada estado\n",
        "razon_viviendas_por_persona = viviendas_por_entidad / poblacion_por_entidad\n",
        "\n",
        "# Encontrar el estado con la mayor razón de viviendas por persona\n",
        "estado_mas_viviendas_por_persona = razon_viviendas_por_persona.idxmax()\n",
        "mayor_razon_viviendas_por_persona = razon_viviendas_por_persona.max()\n",
        "\n",
        "print(f'El estado con más viviendas por persona es: {estado_mas_viviendas_por_persona} con una razón de {mayor_razon_viviendas_por_persona:.6f} viviendas por persona')"
      ]
    }
  ],
  "metadata": {
    "kernelspec": {
      "display_name": "Python 3",
      "language": "python",
      "name": "python3"
    },
    "language_info": {
      "codemirror_mode": {
        "name": "ipython",
        "version": 3
      },
      "file_extension": ".py",
      "mimetype": "text/x-python",
      "name": "python",
      "nbconvert_exporter": "python",
      "pygments_lexer": "ipython3",
      "version": "3.13.1"
    },
    "colab": {
      "provenance": [],
      "include_colab_link": true
    }
  },
  "nbformat": 4,
  "nbformat_minor": 0
}