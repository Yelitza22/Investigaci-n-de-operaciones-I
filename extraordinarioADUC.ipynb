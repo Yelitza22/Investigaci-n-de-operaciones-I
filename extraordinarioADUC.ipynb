{
  "nbformat": 4,
  "nbformat_minor": 0,
  "metadata": {
    "colab": {
      "provenance": [],
      "authorship_tag": "ABX9TyOmZM9VWC1wfLmMNoPuoHEQ",
      "include_colab_link": true
    },
    "kernelspec": {
      "name": "python3",
      "display_name": "Python 3"
    },
    "language_info": {
      "name": "python"
    }
  },
  "cells": [
    {
      "cell_type": "markdown",
      "metadata": {
        "id": "view-in-github",
        "colab_type": "text"
      },
      "source": [
        "<a href=\"https://colab.research.google.com/github/Yelitza22/Investigaci-n-de-operaciones-I/blob/main/extraordinarioADUC.ipynb\" target=\"_parent\"><img src=\"https://colab.research.google.com/assets/colab-badge.svg\" alt=\"Open In Colab\"/></a>"
      ]
    },
    {
      "cell_type": "markdown",
      "source": [
        "#Examen extraordinario; problema 5\n",
        "##Olvera Oliva Marai Yelitza\n",
        "\n",
        "Descargue el archivo a continuación. El archivo contiene las ventas de una tienda departamental. Analice el archivo usando Python y Pandas y conteste las siguientes preguntas:"
      ],
      "metadata": {
        "id": "EmMYuVskrSi4"
      }
    },
    {
      "cell_type": "code",
      "source": [
        "import pandas as pd\n",
        "\n",
        "# Leer el archivo CSV generado previamente\n",
        "df = pd.read_csv('ventas.csv')\n",
        "df.head(20)\n"
      ],
      "metadata": {
        "colab": {
          "base_uri": "https://localhost:8080/",
          "height": 677
        },
        "id": "MmmzM49nsJ6R",
        "outputId": "3796fdcd-7515-476d-b293-b43beeae3b32"
      },
      "execution_count": 46,
      "outputs": [
        {
          "output_type": "execute_result",
          "data": {
            "text/plain": [
              "         Fecha   Producto  Cantidad  Precio    CategorÃ­a\n",
              "0   2023-06-16  PlÃ¡tanos         9  612.41          Ropa\n",
              "1   2023-03-12    Teclado         1  676.09          Ropa\n",
              "2   2023-02-24      Mouse         4  307.91     Alimentos\n",
              "3   2023-03-08     Laptop         1  477.27     Alimentos\n",
              "4   2023-08-09    Zapatos         7  532.87  ElectrÃ³nica\n",
              "5   2023-09-08    Teclado         1  577.32          Ropa\n",
              "6   2023-01-04    Teclado         8  314.39  ElectrÃ³nica\n",
              "7   2023-09-20    Monitor         4  115.86  ElectrÃ³nica\n",
              "8   2023-10-30      Leche         7  442.64  ElectrÃ³nica\n",
              "9   2023-07-05      Leche         8  428.70     Alimentos\n",
              "10  2023-05-05   Camiseta         7  514.67     Alimentos\n",
              "11  2023-09-15  PlÃ¡tanos         4  405.44     Alimentos\n",
              "12  2023-10-23    Teclado         5  933.80  ElectrÃ³nica\n",
              "13  2023-11-15        Pan         1  938.91     Alimentos\n",
              "14  2023-05-20    Teclado         2  404.05          Ropa\n",
              "15  2023-04-12   Camiseta         6  980.44          Ropa\n",
              "16  2023-07-14   Manzanas         5  367.93  ElectrÃ³nica\n",
              "17  2023-10-28   Camiseta         2  229.23  ElectrÃ³nica\n",
              "18  2023-12-22   Camiseta         8  224.13     Alimentos\n",
              "19  2023-02-22    Monitor         2  996.64          Ropa"
            ],
            "text/html": [
              "\n",
              "  <div id=\"df-01f8f8db-eee8-4177-9e54-101e8770e266\" class=\"colab-df-container\">\n",
              "    <div>\n",
              "<style scoped>\n",
              "    .dataframe tbody tr th:only-of-type {\n",
              "        vertical-align: middle;\n",
              "    }\n",
              "\n",
              "    .dataframe tbody tr th {\n",
              "        vertical-align: top;\n",
              "    }\n",
              "\n",
              "    .dataframe thead th {\n",
              "        text-align: right;\n",
              "    }\n",
              "</style>\n",
              "<table border=\"1\" class=\"dataframe\">\n",
              "  <thead>\n",
              "    <tr style=\"text-align: right;\">\n",
              "      <th></th>\n",
              "      <th>Fecha</th>\n",
              "      <th>Producto</th>\n",
              "      <th>Cantidad</th>\n",
              "      <th>Precio</th>\n",
              "      <th>CategorÃ­a</th>\n",
              "    </tr>\n",
              "  </thead>\n",
              "  <tbody>\n",
              "    <tr>\n",
              "      <th>0</th>\n",
              "      <td>2023-06-16</td>\n",
              "      <td>PlÃ¡tanos</td>\n",
              "      <td>9</td>\n",
              "      <td>612.41</td>\n",
              "      <td>Ropa</td>\n",
              "    </tr>\n",
              "    <tr>\n",
              "      <th>1</th>\n",
              "      <td>2023-03-12</td>\n",
              "      <td>Teclado</td>\n",
              "      <td>1</td>\n",
              "      <td>676.09</td>\n",
              "      <td>Ropa</td>\n",
              "    </tr>\n",
              "    <tr>\n",
              "      <th>2</th>\n",
              "      <td>2023-02-24</td>\n",
              "      <td>Mouse</td>\n",
              "      <td>4</td>\n",
              "      <td>307.91</td>\n",
              "      <td>Alimentos</td>\n",
              "    </tr>\n",
              "    <tr>\n",
              "      <th>3</th>\n",
              "      <td>2023-03-08</td>\n",
              "      <td>Laptop</td>\n",
              "      <td>1</td>\n",
              "      <td>477.27</td>\n",
              "      <td>Alimentos</td>\n",
              "    </tr>\n",
              "    <tr>\n",
              "      <th>4</th>\n",
              "      <td>2023-08-09</td>\n",
              "      <td>Zapatos</td>\n",
              "      <td>7</td>\n",
              "      <td>532.87</td>\n",
              "      <td>ElectrÃ³nica</td>\n",
              "    </tr>\n",
              "    <tr>\n",
              "      <th>5</th>\n",
              "      <td>2023-09-08</td>\n",
              "      <td>Teclado</td>\n",
              "      <td>1</td>\n",
              "      <td>577.32</td>\n",
              "      <td>Ropa</td>\n",
              "    </tr>\n",
              "    <tr>\n",
              "      <th>6</th>\n",
              "      <td>2023-01-04</td>\n",
              "      <td>Teclado</td>\n",
              "      <td>8</td>\n",
              "      <td>314.39</td>\n",
              "      <td>ElectrÃ³nica</td>\n",
              "    </tr>\n",
              "    <tr>\n",
              "      <th>7</th>\n",
              "      <td>2023-09-20</td>\n",
              "      <td>Monitor</td>\n",
              "      <td>4</td>\n",
              "      <td>115.86</td>\n",
              "      <td>ElectrÃ³nica</td>\n",
              "    </tr>\n",
              "    <tr>\n",
              "      <th>8</th>\n",
              "      <td>2023-10-30</td>\n",
              "      <td>Leche</td>\n",
              "      <td>7</td>\n",
              "      <td>442.64</td>\n",
              "      <td>ElectrÃ³nica</td>\n",
              "    </tr>\n",
              "    <tr>\n",
              "      <th>9</th>\n",
              "      <td>2023-07-05</td>\n",
              "      <td>Leche</td>\n",
              "      <td>8</td>\n",
              "      <td>428.70</td>\n",
              "      <td>Alimentos</td>\n",
              "    </tr>\n",
              "    <tr>\n",
              "      <th>10</th>\n",
              "      <td>2023-05-05</td>\n",
              "      <td>Camiseta</td>\n",
              "      <td>7</td>\n",
              "      <td>514.67</td>\n",
              "      <td>Alimentos</td>\n",
              "    </tr>\n",
              "    <tr>\n",
              "      <th>11</th>\n",
              "      <td>2023-09-15</td>\n",
              "      <td>PlÃ¡tanos</td>\n",
              "      <td>4</td>\n",
              "      <td>405.44</td>\n",
              "      <td>Alimentos</td>\n",
              "    </tr>\n",
              "    <tr>\n",
              "      <th>12</th>\n",
              "      <td>2023-10-23</td>\n",
              "      <td>Teclado</td>\n",
              "      <td>5</td>\n",
              "      <td>933.80</td>\n",
              "      <td>ElectrÃ³nica</td>\n",
              "    </tr>\n",
              "    <tr>\n",
              "      <th>13</th>\n",
              "      <td>2023-11-15</td>\n",
              "      <td>Pan</td>\n",
              "      <td>1</td>\n",
              "      <td>938.91</td>\n",
              "      <td>Alimentos</td>\n",
              "    </tr>\n",
              "    <tr>\n",
              "      <th>14</th>\n",
              "      <td>2023-05-20</td>\n",
              "      <td>Teclado</td>\n",
              "      <td>2</td>\n",
              "      <td>404.05</td>\n",
              "      <td>Ropa</td>\n",
              "    </tr>\n",
              "    <tr>\n",
              "      <th>15</th>\n",
              "      <td>2023-04-12</td>\n",
              "      <td>Camiseta</td>\n",
              "      <td>6</td>\n",
              "      <td>980.44</td>\n",
              "      <td>Ropa</td>\n",
              "    </tr>\n",
              "    <tr>\n",
              "      <th>16</th>\n",
              "      <td>2023-07-14</td>\n",
              "      <td>Manzanas</td>\n",
              "      <td>5</td>\n",
              "      <td>367.93</td>\n",
              "      <td>ElectrÃ³nica</td>\n",
              "    </tr>\n",
              "    <tr>\n",
              "      <th>17</th>\n",
              "      <td>2023-10-28</td>\n",
              "      <td>Camiseta</td>\n",
              "      <td>2</td>\n",
              "      <td>229.23</td>\n",
              "      <td>ElectrÃ³nica</td>\n",
              "    </tr>\n",
              "    <tr>\n",
              "      <th>18</th>\n",
              "      <td>2023-12-22</td>\n",
              "      <td>Camiseta</td>\n",
              "      <td>8</td>\n",
              "      <td>224.13</td>\n",
              "      <td>Alimentos</td>\n",
              "    </tr>\n",
              "    <tr>\n",
              "      <th>19</th>\n",
              "      <td>2023-02-22</td>\n",
              "      <td>Monitor</td>\n",
              "      <td>2</td>\n",
              "      <td>996.64</td>\n",
              "      <td>Ropa</td>\n",
              "    </tr>\n",
              "  </tbody>\n",
              "</table>\n",
              "</div>\n",
              "    <div class=\"colab-df-buttons\">\n",
              "\n",
              "  <div class=\"colab-df-container\">\n",
              "    <button class=\"colab-df-convert\" onclick=\"convertToInteractive('df-01f8f8db-eee8-4177-9e54-101e8770e266')\"\n",
              "            title=\"Convert this dataframe to an interactive table.\"\n",
              "            style=\"display:none;\">\n",
              "\n",
              "  <svg xmlns=\"http://www.w3.org/2000/svg\" height=\"24px\" viewBox=\"0 -960 960 960\">\n",
              "    <path d=\"M120-120v-720h720v720H120Zm60-500h600v-160H180v160Zm220 220h160v-160H400v160Zm0 220h160v-160H400v160ZM180-400h160v-160H180v160Zm440 0h160v-160H620v160ZM180-180h160v-160H180v160Zm440 0h160v-160H620v160Z\"/>\n",
              "  </svg>\n",
              "    </button>\n",
              "\n",
              "  <style>\n",
              "    .colab-df-container {\n",
              "      display:flex;\n",
              "      gap: 12px;\n",
              "    }\n",
              "\n",
              "    .colab-df-convert {\n",
              "      background-color: #E8F0FE;\n",
              "      border: none;\n",
              "      border-radius: 50%;\n",
              "      cursor: pointer;\n",
              "      display: none;\n",
              "      fill: #1967D2;\n",
              "      height: 32px;\n",
              "      padding: 0 0 0 0;\n",
              "      width: 32px;\n",
              "    }\n",
              "\n",
              "    .colab-df-convert:hover {\n",
              "      background-color: #E2EBFA;\n",
              "      box-shadow: 0px 1px 2px rgba(60, 64, 67, 0.3), 0px 1px 3px 1px rgba(60, 64, 67, 0.15);\n",
              "      fill: #174EA6;\n",
              "    }\n",
              "\n",
              "    .colab-df-buttons div {\n",
              "      margin-bottom: 4px;\n",
              "    }\n",
              "\n",
              "    [theme=dark] .colab-df-convert {\n",
              "      background-color: #3B4455;\n",
              "      fill: #D2E3FC;\n",
              "    }\n",
              "\n",
              "    [theme=dark] .colab-df-convert:hover {\n",
              "      background-color: #434B5C;\n",
              "      box-shadow: 0px 1px 3px 1px rgba(0, 0, 0, 0.15);\n",
              "      filter: drop-shadow(0px 1px 2px rgba(0, 0, 0, 0.3));\n",
              "      fill: #FFFFFF;\n",
              "    }\n",
              "  </style>\n",
              "\n",
              "    <script>\n",
              "      const buttonEl =\n",
              "        document.querySelector('#df-01f8f8db-eee8-4177-9e54-101e8770e266 button.colab-df-convert');\n",
              "      buttonEl.style.display =\n",
              "        google.colab.kernel.accessAllowed ? 'block' : 'none';\n",
              "\n",
              "      async function convertToInteractive(key) {\n",
              "        const element = document.querySelector('#df-01f8f8db-eee8-4177-9e54-101e8770e266');\n",
              "        const dataTable =\n",
              "          await google.colab.kernel.invokeFunction('convertToInteractive',\n",
              "                                                    [key], {});\n",
              "        if (!dataTable) return;\n",
              "\n",
              "        const docLinkHtml = 'Like what you see? Visit the ' +\n",
              "          '<a target=\"_blank\" href=https://colab.research.google.com/notebooks/data_table.ipynb>data table notebook</a>'\n",
              "          + ' to learn more about interactive tables.';\n",
              "        element.innerHTML = '';\n",
              "        dataTable['output_type'] = 'display_data';\n",
              "        await google.colab.output.renderOutput(dataTable, element);\n",
              "        const docLink = document.createElement('div');\n",
              "        docLink.innerHTML = docLinkHtml;\n",
              "        element.appendChild(docLink);\n",
              "      }\n",
              "    </script>\n",
              "  </div>\n",
              "\n",
              "\n",
              "<div id=\"df-67aac1be-190b-41b1-b693-7f73109979e5\">\n",
              "  <button class=\"colab-df-quickchart\" onclick=\"quickchart('df-67aac1be-190b-41b1-b693-7f73109979e5')\"\n",
              "            title=\"Suggest charts\"\n",
              "            style=\"display:none;\">\n",
              "\n",
              "<svg xmlns=\"http://www.w3.org/2000/svg\" height=\"24px\"viewBox=\"0 0 24 24\"\n",
              "     width=\"24px\">\n",
              "    <g>\n",
              "        <path d=\"M19 3H5c-1.1 0-2 .9-2 2v14c0 1.1.9 2 2 2h14c1.1 0 2-.9 2-2V5c0-1.1-.9-2-2-2zM9 17H7v-7h2v7zm4 0h-2V7h2v10zm4 0h-2v-4h2v4z\"/>\n",
              "    </g>\n",
              "</svg>\n",
              "  </button>\n",
              "\n",
              "<style>\n",
              "  .colab-df-quickchart {\n",
              "      --bg-color: #E8F0FE;\n",
              "      --fill-color: #1967D2;\n",
              "      --hover-bg-color: #E2EBFA;\n",
              "      --hover-fill-color: #174EA6;\n",
              "      --disabled-fill-color: #AAA;\n",
              "      --disabled-bg-color: #DDD;\n",
              "  }\n",
              "\n",
              "  [theme=dark] .colab-df-quickchart {\n",
              "      --bg-color: #3B4455;\n",
              "      --fill-color: #D2E3FC;\n",
              "      --hover-bg-color: #434B5C;\n",
              "      --hover-fill-color: #FFFFFF;\n",
              "      --disabled-bg-color: #3B4455;\n",
              "      --disabled-fill-color: #666;\n",
              "  }\n",
              "\n",
              "  .colab-df-quickchart {\n",
              "    background-color: var(--bg-color);\n",
              "    border: none;\n",
              "    border-radius: 50%;\n",
              "    cursor: pointer;\n",
              "    display: none;\n",
              "    fill: var(--fill-color);\n",
              "    height: 32px;\n",
              "    padding: 0;\n",
              "    width: 32px;\n",
              "  }\n",
              "\n",
              "  .colab-df-quickchart:hover {\n",
              "    background-color: var(--hover-bg-color);\n",
              "    box-shadow: 0 1px 2px rgba(60, 64, 67, 0.3), 0 1px 3px 1px rgba(60, 64, 67, 0.15);\n",
              "    fill: var(--button-hover-fill-color);\n",
              "  }\n",
              "\n",
              "  .colab-df-quickchart-complete:disabled,\n",
              "  .colab-df-quickchart-complete:disabled:hover {\n",
              "    background-color: var(--disabled-bg-color);\n",
              "    fill: var(--disabled-fill-color);\n",
              "    box-shadow: none;\n",
              "  }\n",
              "\n",
              "  .colab-df-spinner {\n",
              "    border: 2px solid var(--fill-color);\n",
              "    border-color: transparent;\n",
              "    border-bottom-color: var(--fill-color);\n",
              "    animation:\n",
              "      spin 1s steps(1) infinite;\n",
              "  }\n",
              "\n",
              "  @keyframes spin {\n",
              "    0% {\n",
              "      border-color: transparent;\n",
              "      border-bottom-color: var(--fill-color);\n",
              "      border-left-color: var(--fill-color);\n",
              "    }\n",
              "    20% {\n",
              "      border-color: transparent;\n",
              "      border-left-color: var(--fill-color);\n",
              "      border-top-color: var(--fill-color);\n",
              "    }\n",
              "    30% {\n",
              "      border-color: transparent;\n",
              "      border-left-color: var(--fill-color);\n",
              "      border-top-color: var(--fill-color);\n",
              "      border-right-color: var(--fill-color);\n",
              "    }\n",
              "    40% {\n",
              "      border-color: transparent;\n",
              "      border-right-color: var(--fill-color);\n",
              "      border-top-color: var(--fill-color);\n",
              "    }\n",
              "    60% {\n",
              "      border-color: transparent;\n",
              "      border-right-color: var(--fill-color);\n",
              "    }\n",
              "    80% {\n",
              "      border-color: transparent;\n",
              "      border-right-color: var(--fill-color);\n",
              "      border-bottom-color: var(--fill-color);\n",
              "    }\n",
              "    90% {\n",
              "      border-color: transparent;\n",
              "      border-bottom-color: var(--fill-color);\n",
              "    }\n",
              "  }\n",
              "</style>\n",
              "\n",
              "  <script>\n",
              "    async function quickchart(key) {\n",
              "      const quickchartButtonEl =\n",
              "        document.querySelector('#' + key + ' button');\n",
              "      quickchartButtonEl.disabled = true;  // To prevent multiple clicks.\n",
              "      quickchartButtonEl.classList.add('colab-df-spinner');\n",
              "      try {\n",
              "        const charts = await google.colab.kernel.invokeFunction(\n",
              "            'suggestCharts', [key], {});\n",
              "      } catch (error) {\n",
              "        console.error('Error during call to suggestCharts:', error);\n",
              "      }\n",
              "      quickchartButtonEl.classList.remove('colab-df-spinner');\n",
              "      quickchartButtonEl.classList.add('colab-df-quickchart-complete');\n",
              "    }\n",
              "    (() => {\n",
              "      let quickchartButtonEl =\n",
              "        document.querySelector('#df-67aac1be-190b-41b1-b693-7f73109979e5 button');\n",
              "      quickchartButtonEl.style.display =\n",
              "        google.colab.kernel.accessAllowed ? 'block' : 'none';\n",
              "    })();\n",
              "  </script>\n",
              "</div>\n",
              "\n",
              "    </div>\n",
              "  </div>\n"
            ],
            "application/vnd.google.colaboratory.intrinsic+json": {
              "type": "dataframe",
              "variable_name": "df",
              "summary": "{\n  \"name\": \"df\",\n  \"rows\": 100,\n  \"fields\": [\n    {\n      \"column\": \"Fecha\",\n      \"properties\": {\n        \"dtype\": \"object\",\n        \"num_unique_values\": 86,\n        \"samples\": [\n          \"2023-01-24\",\n          \"2023-06-16\",\n          \"2023-09-28\"\n        ],\n        \"semantic_type\": \"\",\n        \"description\": \"\"\n      }\n    },\n    {\n      \"column\": \"Producto\",\n      \"properties\": {\n        \"dtype\": \"category\",\n        \"num_unique_values\": 12,\n        \"samples\": [\n          \"Tablet\",\n          \"Manzanas\",\n          \"Pl\\u00c3\\u00a1tanos\"\n        ],\n        \"semantic_type\": \"\",\n        \"description\": \"\"\n      }\n    },\n    {\n      \"column\": \"Cantidad\",\n      \"properties\": {\n        \"dtype\": \"number\",\n        \"std\": 2,\n        \"min\": 1,\n        \"max\": 10,\n        \"num_unique_values\": 10,\n        \"samples\": [\n          10,\n          1,\n          5\n        ],\n        \"semantic_type\": \"\",\n        \"description\": \"\"\n      }\n    },\n    {\n      \"column\": \"Precio\",\n      \"properties\": {\n        \"dtype\": \"number\",\n        \"std\": 277.6161393120095,\n        \"min\": 39.72,\n        \"max\": 996.64,\n        \"num_unique_values\": 100,\n        \"samples\": [\n          774.65,\n          280.58,\n          94.24\n        ],\n        \"semantic_type\": \"\",\n        \"description\": \"\"\n      }\n    },\n    {\n      \"column\": \"Categor\\u00c3\\u00ada\",\n      \"properties\": {\n        \"dtype\": \"category\",\n        \"num_unique_values\": 3,\n        \"samples\": [\n          \"Ropa\",\n          \"Alimentos\",\n          \"Electr\\u00c3\\u00b3nica\"\n        ],\n        \"semantic_type\": \"\",\n        \"description\": \"\"\n      }\n    }\n  ]\n}"
            }
          },
          "metadata": {},
          "execution_count": 46
        }
      ]
    },
    {
      "cell_type": "code",
      "source": [
        "# Corregir el nombre de la columna para que sea legible\n",
        "df.rename(columns={\"CategorÃ­a\": \"Categoría\"}, inplace=True)\n"
      ],
      "metadata": {
        "id": "ZvaWn5Vmspyy"
      },
      "execution_count": 48,
      "outputs": []
    },
    {
      "cell_type": "markdown",
      "source": [
        "\n",
        "\n",
        "*   Calcule el total de ingreso generado por la tienda departamental descrito en el archivo.\n",
        "\n"
      ],
      "metadata": {
        "id": "dulPVNzdxCdQ"
      }
    },
    {
      "cell_type": "code",
      "source": [
        "# Calcular el ingreso generado por cada venta\n",
        "df['Ingreso'] = df['Cantidad'] * df['Precio']\n",
        "\n",
        "# Total de ingresos generados\n",
        "total_ingresos = df['Ingreso'].sum()\n",
        "\n",
        "print(f\"Total de ingresos generados: ${total_ingresos:,.2f}\")"
      ],
      "metadata": {
        "colab": {
          "base_uri": "https://localhost:8080/"
        },
        "id": "qVcRwLlfuKa0",
        "outputId": "057e1235-4c11-45e9-e5de-14c2de74a4f1"
      },
      "execution_count": 47,
      "outputs": [
        {
          "output_type": "stream",
          "name": "stdout",
          "text": [
            "Total de ingresos generados: $296,223.42\n"
          ]
        }
      ]
    },
    {
      "cell_type": "markdown",
      "source": [
        "\n",
        "\n",
        "*  ¿Cuál es el producto que más se vendió en cantidad?\n",
        "\n"
      ],
      "metadata": {
        "id": "l-ILtABdxJlg"
      }
    },
    {
      "cell_type": "code",
      "source": [
        "# Producto más vendido en cantidad\n",
        "producto_mas_vendido = df.groupby('Producto')['Cantidad'].sum().idxmax()\n",
        "cantidad_mas_vendida = df.groupby('Producto')['Cantidad'].sum().max()\n",
        "\n",
        "print(f\"Producto más vendido en cantidad: {producto_mas_vendido} ({cantidad_mas_vendida} unidades)\")"
      ],
      "metadata": {
        "colab": {
          "base_uri": "https://localhost:8080/"
        },
        "id": "9d0i_757uTIb",
        "outputId": "8ddbf09e-6c3e-4baa-a715-adbfc086b2eb"
      },
      "execution_count": 49,
      "outputs": [
        {
          "output_type": "stream",
          "name": "stdout",
          "text": [
            "Producto más vendido en cantidad: Camiseta (68 unidades)\n"
          ]
        }
      ]
    },
    {
      "cell_type": "markdown",
      "source": [
        "\n",
        "\n",
        "*   ¿Cuál es el producto que más generó ingresos?\n",
        "\n"
      ],
      "metadata": {
        "id": "QFsPIFPFxSQY"
      }
    },
    {
      "cell_type": "code",
      "source": [
        "# Producto que más generó ingresos\n",
        "producto_mas_ingresos = df.groupby('Producto')['Ingreso'].sum().idxmax()\n",
        "ingreso_mas_alto = df.groupby('Producto')['Ingreso'].sum().max()\n",
        "\n",
        "print(f\"Producto que más generó ingresos: {producto_mas_ingresos} (${ingreso_mas_alto:,.2f})\")\n"
      ],
      "metadata": {
        "colab": {
          "base_uri": "https://localhost:8080/"
        },
        "id": "1dQUD_Z8uYKF",
        "outputId": "63a1bbd0-bf0c-482e-f04e-31aa0d3af140"
      },
      "execution_count": 60,
      "outputs": [
        {
          "output_type": "stream",
          "name": "stdout",
          "text": [
            "Producto que más generó ingresos: Camiseta ($37,515.70)\n"
          ]
        }
      ]
    },
    {
      "cell_type": "markdown",
      "source": [
        "\n",
        "\n",
        "*   ¿El producto más vendido es el mismo que el producto que generó más ingresos?\n",
        "\n"
      ],
      "metadata": {
        "id": "ZhyN85H5xdf4"
      }
    },
    {
      "cell_type": "code",
      "source": [
        "# Comparar si es el mismo producto\n",
        "es_mismo_producto = producto_mas_vendido == producto_mas_ingresos\n",
        "\n",
        "print(f\"¿Es el mismo producto? {'Sí, es el mismo' if es_mismo_producto else 'No, no es el mismo'}\")"
      ],
      "metadata": {
        "colab": {
          "base_uri": "https://localhost:8080/"
        },
        "id": "wSkk4okOub_U",
        "outputId": "dc37b6b2-d4fa-4c03-f4ae-734284c0c05d"
      },
      "execution_count": 58,
      "outputs": [
        {
          "output_type": "stream",
          "name": "stdout",
          "text": [
            "¿Es el mismo producto? Sí, es el mismo\n"
          ]
        }
      ]
    },
    {
      "cell_type": "markdown",
      "source": [
        "\n",
        "\n",
        "*   ¿Se puede dar alguna conclusión acerca de en que categoría de productos la tienda debe invertir más en marketing?\n",
        "\n"
      ],
      "metadata": {
        "id": "0x98rY2CxpQg"
      }
    },
    {
      "cell_type": "code",
      "source": [
        "# Categoría con más ingresos\n",
        "categoria_mas_ingresos = df.groupby('Categoría')['Ingreso'].sum().idxmax()\n",
        "ingreso_categoria_mas_alta = df.groupby('Categoría')['Ingreso'].sum().max()\n",
        "\n",
        "print(f\"Categoría con más ingresos: {categoria_mas_ingresos} (${ingreso_categoria_mas_alta:,.2f})\")\n",
        "print(f\"La tienda debería considerar invertir más en marketing para la categoría de {categoria_mas_ingresos}.\")"
      ],
      "metadata": {
        "colab": {
          "base_uri": "https://localhost:8080/"
        },
        "id": "MxeE8M8suhjk",
        "outputId": "2d75d1a4-51bb-4de8-c7a9-6696652b8a4f"
      },
      "execution_count": 59,
      "outputs": [
        {
          "output_type": "stream",
          "name": "stdout",
          "text": [
            "Categoría con más ingresos: Ropa ($113,083.09)\n",
            "La tienda debería considerar invertir más en marketing para la categoría de Ropa.\n"
          ]
        }
      ]
    },
    {
      "cell_type": "markdown",
      "source": [
        "\n",
        "\n",
        "*   ¿Alguna conclusión que hayas descubierto que quisieras darle como consejo al dueño de la tienda?\n",
        "\n"
      ],
      "metadata": {
        "id": "qPx7qy5Lx3VJ"
      }
    },
    {
      "cell_type": "code",
      "source": [
        "# Distribuciones adicionales\n",
        "print(\"\\nDistribución de ingresos por categoría:\")\n",
        "print(df.groupby('Categoría')['Ingreso'].sum())\n",
        "\n",
        "print(\"\\nDistribución de ingresos por producto:\")\n",
        "print(df.groupby('Producto')['Ingreso'].sum())\n",
        "\n",
        "# Conclusión adicional\n",
        "print(\"\\nConclusión adicional:\")\n",
        "print(\"Es importante analizar no solo la cantidad de productos vendidos, sino también los ingresos generados por cada producto.\")\n",
        "print(\"Invertir en marketing para la categoría más rentable puede maximizar las ganancias.\")"
      ],
      "metadata": {
        "colab": {
          "base_uri": "https://localhost:8080/"
        },
        "id": "nqnWTRK_yFMJ",
        "outputId": "d3c3c6dd-e504-4552-bd54-f25060ab562a"
      },
      "execution_count": 64,
      "outputs": [
        {
          "output_type": "stream",
          "name": "stdout",
          "text": [
            "\n",
            "Distribución de ingresos por categoría:\n",
            "Categoría\n",
            "Alimentos        90526.30\n",
            "ElectrÃ³nica     92614.03\n",
            "Ropa            113083.09\n",
            "Name: Ingreso, dtype: float64\n",
            "\n",
            "Distribución de ingresos por producto:\n",
            "Producto\n",
            "Camiseta     37515.70\n",
            "Laptop       22416.85\n",
            "Leche        25697.51\n",
            "Manzanas      7927.64\n",
            "Monitor      19546.68\n",
            "Mouse        17375.19\n",
            "Pan          17196.94\n",
            "PantalÃ³n    31181.17\n",
            "PlÃ¡tanos    23569.85\n",
            "Tablet       31505.32\n",
            "Teclado      26540.95\n",
            "Zapatos      35749.62\n",
            "Name: Ingreso, dtype: float64\n",
            "\n",
            "Conclusión adicional:\n",
            "Es importante analizar no solo la cantidad de productos vendidos, sino también los ingresos generados por cada producto.\n",
            "Invertir en marketing para la categoría más rentable puede maximizar las ganancias.\n"
          ]
        }
      ]
    }
  ]
}