{
  "nbformat": 4,
  "nbformat_minor": 0,
  "metadata": {
    "colab": {
      "provenance": [],
      "authorship_tag": "ABX9TyNyglfj265AMrzYhpyPYtIO",
      "include_colab_link": true
    },
    "kernelspec": {
      "name": "python3",
      "display_name": "Python 3"
    },
    "language_info": {
      "name": "python"
    }
  },
  "cells": [
    {
      "cell_type": "markdown",
      "metadata": {
        "id": "view-in-github",
        "colab_type": "text"
      },
      "source": [
        "<a href=\"https://colab.research.google.com/github/Yelitza22/Investigaci-n-de-operaciones-I/blob/main/TareadeMaximizaci%C3%B3n.ipynb\" target=\"_parent\"><img src=\"https://colab.research.google.com/assets/colab-badge.svg\" alt=\"Open In Colab\"/></a>"
      ]
    },
    {
      "cell_type": "markdown",
      "source": [
        "#Investigación de Operaciones I\n",
        "Autor: Marai Yelitza Olvera Oliva\n",
        "\n",
        "**Maximizar** $ z = 4x_1 + x_2 $  \n",
        "**Sujeto a:**\n",
        "\n",
        "\n",
        "$3x_1 + x_2 = 3$ \\\\\n",
        "$4x_1 + 3x_2 \\geq 6$ \\\\\n",
        "$x_1 + 2x_2 \\leq 4 $ \\\\\n",
        "$x_1 \\geq 0$ \\\\\n",
        "$x_2 \\geq 0$\n",
        "\n"
      ],
      "metadata": {
        "id": "CS6CzPoPxGuT"
      }
    },
    {
      "cell_type": "markdown",
      "source": [
        "Para resolverlo, haremos uso de la librería numpy para las operaciones matemáticas y la libreria scipy, que es una extensión de numpy y nos ayudará a optimizar el problema dado, así:\n"
      ],
      "metadata": {
        "id": "aDfTUrnay-5p"
      }
    },
    {
      "cell_type": "code",
      "execution_count": 7,
      "metadata": {
        "id": "yte8Mn7Fu3l8"
      },
      "outputs": [],
      "source": [
        "import numpy as np\n",
        "from scipy.optimize import linprog\n",
        "import matplotlib.pyplot as plt\n"
      ]
    },
    {
      "cell_type": "markdown",
      "source": [
        "Escribamos ahora los coeficientes de la función objetivo, es decir la función\n",
        "$z= 4x_1 + x_2$"
      ],
      "metadata": {
        "id": "mTzI18oFzxPR"
      }
    },
    {
      "cell_type": "code",
      "source": [
        "# Coeficientes de la función objetivo\n",
        "c = [4, 1]  # 4*x1 + 1*x2"
      ],
      "metadata": {
        "id": "zEF35gMjvEgF"
      },
      "execution_count": 8,
      "outputs": []
    },
    {
      "cell_type": "markdown",
      "source": [
        "Ahora escribamos como una matriz los coeficientes de las restricciones"
      ],
      "metadata": {
        "id": "bXmtyFOt13Cm"
      }
    },
    {
      "cell_type": "code",
      "source": [
        "# Matriz de coeficientes para las restricciones\n",
        "A = [\n",
        "    [3, 1],      # 3x1 + x2 <= 3\n",
        "    [-3, -1],    # -3x1 - x2 <= -3\n",
        "    [-4, -3],    # -4x1 - 3x2 <= -6\n",
        "    [1, 2]       # x1 + 2x2 <= 4\n",
        "]"
      ],
      "metadata": {
        "id": "w_r8O5g8vGtb"
      },
      "execution_count": 40,
      "outputs": []
    },
    {
      "cell_type": "markdown",
      "source": [
        "Y hagamos lo mismo para los límites de las restricciones\n"
      ],
      "metadata": {
        "id": "0emdpIfP2HKW"
      }
    },
    {
      "cell_type": "code",
      "source": [
        "# Vector de límites de las restricciones\n",
        "b = [3, -3, -6, 4]"
      ],
      "metadata": {
        "id": "l85KUVGS10mG"
      },
      "execution_count": null,
      "outputs": []
    },
    {
      "cell_type": "markdown",
      "source": [
        "Definamos ahora los limites de las variables $x_1$ y $x_2$, para ello, usaremos la expresión (0, None) que indica que la variable tiene un límite inferior de 0, pero no tiene límite superior, así"
      ],
      "metadata": {
        "id": "01DcN-UB2ZT-"
      }
    },
    {
      "cell_type": "code",
      "source": [
        "x1_bounds = (0, None)\n",
        "x2_bounds = (0, None)"
      ],
      "metadata": {
        "id": "AvJaP6EswFNK"
      },
      "execution_count": 52,
      "outputs": []
    },
    {
      "cell_type": "markdown",
      "source": [
        "Usaremos la siguiente linea de codigo para resolver el problema de programación lineal. Dado que nuestro problema implica maximizar, utilizaremos la función linprog de la librería Scipy para optimizar la función dada, así"
      ],
      "metadata": {
        "id": "9CLEEJJp2vEm"
      }
    },
    {
      "cell_type": "code",
      "source": [
        "model_linear = linprog(c, A_ub=A, b_ub=b, bounds=[x1_bounds, x2_bounds])"
      ],
      "metadata": {
        "id": "Qh7d-bOVwMLc"
      },
      "execution_count": 51,
      "outputs": []
    },
    {
      "cell_type": "markdown",
      "source": [
        "Las siguientes dos líneas de codigo, sirven para imprimir el resultado del modelo lineal, ambas con una pequeña diferencia:"
      ],
      "metadata": {
        "id": "FqCUttjN4HDF"
      }
    },
    {
      "cell_type": "markdown",
      "source": [
        "Al usar str, convierte  el objeto ***model_linear*** a una cadena de texto (con **str()**), y luego lo imprime."
      ],
      "metadata": {
        "id": "SqQOZQdw4Z9I"
      }
    },
    {
      "cell_type": "code",
      "source": [
        "print(str(model_linear))"
      ],
      "metadata": {
        "colab": {
          "base_uri": "https://localhost:8080/"
        },
        "id": "5El7sFuGwPkK",
        "outputId": "33db0807-7f01-4604-bb1e-a77367e1ef29"
      },
      "execution_count": 48,
      "outputs": [
        {
          "output_type": "stream",
          "name": "stdout",
          "text": [
            "        message: Optimization terminated successfully. (HiGHS Status 7: Optimal)\n",
            "        success: True\n",
            "         status: 0\n",
            "            fun: 3.4\n",
            "              x: [ 4.000e-01  1.800e+00]\n",
            "            nit: 0\n",
            "          lower:  residual: [ 4.000e-01  1.800e+00]\n",
            "                 marginals: [ 0.000e+00  0.000e+00]\n",
            "          upper:  residual: [       inf        inf]\n",
            "                 marginals: [ 0.000e+00  0.000e+00]\n",
            "          eqlin:  residual: []\n",
            "                 marginals: []\n",
            "        ineqlin:  residual: [ 0.000e+00  0.000e+00  1.000e+00  0.000e+00]\n",
            "                 marginals: [-0.000e+00 -1.400e+00 -0.000e+00 -2.000e-01]\n",
            " mip_node_count: 0\n",
            " mip_dual_bound: 0.0\n",
            "        mip_gap: 0.0\n"
          ]
        }
      ]
    },
    {
      "cell_type": "markdown",
      "source": [
        "Imprime el objeto ***model_linear*** directamente, lo cual muestra una representación detallada de los resultados del modelo."
      ],
      "metadata": {
        "id": "v0kYCrMi4jad"
      }
    },
    {
      "cell_type": "code",
      "source": [
        "print(model_linear)"
      ],
      "metadata": {
        "colab": {
          "base_uri": "https://localhost:8080/"
        },
        "id": "CLHUES9WwQ7q",
        "outputId": "91daa039-d257-4e8b-d922-26cacc8e1dfc"
      },
      "execution_count": 49,
      "outputs": [
        {
          "output_type": "stream",
          "name": "stdout",
          "text": [
            "        message: Optimization terminated successfully. (HiGHS Status 7: Optimal)\n",
            "        success: True\n",
            "         status: 0\n",
            "            fun: 3.4\n",
            "              x: [ 4.000e-01  1.800e+00]\n",
            "            nit: 0\n",
            "          lower:  residual: [ 4.000e-01  1.800e+00]\n",
            "                 marginals: [ 0.000e+00  0.000e+00]\n",
            "          upper:  residual: [       inf        inf]\n",
            "                 marginals: [ 0.000e+00  0.000e+00]\n",
            "          eqlin:  residual: []\n",
            "                 marginals: []\n",
            "        ineqlin:  residual: [ 0.000e+00  0.000e+00  1.000e+00  0.000e+00]\n",
            "                 marginals: [-0.000e+00 -1.400e+00 -0.000e+00 -2.000e-01]\n",
            " mip_node_count: 0\n",
            " mip_dual_bound: 0.0\n",
            "        mip_gap: 0.0\n"
          ]
        }
      ]
    },
    {
      "cell_type": "markdown",
      "source": [
        "Lo siguiente es para pedir el tipo de variable que es ***model_linear***"
      ],
      "metadata": {
        "id": "lz_h0w6V5zG1"
      }
    },
    {
      "cell_type": "code",
      "source": [
        "type(model_linear)"
      ],
      "metadata": {
        "colab": {
          "base_uri": "https://localhost:8080/"
        },
        "id": "s-QKviaTwXtC",
        "outputId": "f151c0c3-9642-480a-f31d-d26966fba9d2"
      },
      "execution_count": 50,
      "outputs": [
        {
          "output_type": "execute_result",
          "data": {
            "text/plain": [
              "scipy.optimize._optimize.OptimizeResult"
            ]
          },
          "metadata": {},
          "execution_count": 50
        }
      ]
    },
    {
      "cell_type": "markdown",
      "source": [
        "A continuación, se muestra la gráfica de las restricciones para ilustrar más el problema resuelto"
      ],
      "metadata": {
        "id": "8Xk8Mx2a55yF"
      }
    },
    {
      "cell_type": "code",
      "source": [
        "# Valores para x1 en el rango positivo\n",
        "x1 = np.linspace(0, 5, 200)\n",
        "\n",
        "# Restricciones en función de x1\n",
        "y1 = (3 - 3*x1) / 1   # 3x1 + x2 = 3 (interpretado como ≤ para la región factible)\n",
        "y2 = (6 - 4*x1) / 3   # 4x1 + 3x2 ≥ 6 (interpretado como ≥ en la región factible)\n",
        "y3 = (4 - 1*x1) / 2   # x1 + 2x2 ≤ 4\n",
        "\n",
        "# Configuración de la gráfica\n",
        "plt.figure(figsize=(8, 6))\n",
        "\n",
        "# Graficamos las restricciones en el cuadrante positivo (x1 ≥ 0 y x2 ≥ 0)\n",
        "plt.plot(x1, y1, label=r'$3x_1 + x_2 = 3$', color='red')\n",
        "plt.plot(x1, y2, label=r'$4x_1 + 3x_2 = 6$', color='green')\n",
        "plt.plot(x1, y3, label=r'$x_1 + 2x_2 = 4$', color='orange')\n",
        "\n",
        "# Colorear la región factible\n",
        "plt.fill_between(x1, 0, np.minimum(np.minimum(y1, y3), np.maximum(y2, 0)), color='blue', alpha=0.3)\n",
        "\n",
        "# Limitar la vista al primer cuadrante (x1 ≥ 0, x2 ≥ 0)\n",
        "plt.xlim(0, 4)\n",
        "plt.ylim(0, 3)\n",
        "\n",
        "# Etiquetas de los ejes y título\n",
        "plt.xlabel(r'$x_1$')\n",
        "plt.ylabel(r'$x_2$')\n",
        "plt.title(\"Región Factible\")\n",
        "plt.legend(loc='upper right')\n",
        "plt.show()\n"
      ],
      "metadata": {
        "colab": {
          "base_uri": "https://localhost:8080/",
          "height": 565
        },
        "id": "W6mgAoyD0gnv",
        "outputId": "825847a9-2f52-43e0-e5b7-f3e0acd6c74e"
      },
      "execution_count": 38,
      "outputs": [
        {
          "output_type": "display_data",
          "data": {
            "text/plain": [
              "<Figure size 800x600 with 1 Axes>"
            ],
            "image/png": "[encoded data removed]"
          },
          "metadata": {}
        }
      ]
    }
  ]
}