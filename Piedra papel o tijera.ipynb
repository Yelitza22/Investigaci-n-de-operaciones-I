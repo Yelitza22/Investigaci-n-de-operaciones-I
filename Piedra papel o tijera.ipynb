{
  "nbformat": 4,
  "nbformat_minor": 0,
  "metadata": {
    "colab": {
      "provenance": [],
      "authorship_tag": "ABX9TyN4C9DRMSQEP0II2cXNGwsp",
      "include_colab_link": true
    },
    "kernelspec": {
      "name": "python3",
      "display_name": "Python 3"
    },
    "language_info": {
      "name": "python"
    }
  },
  "cells": [
    {
      "cell_type": "markdown",
      "metadata": {
        "id": "view-in-github",
        "colab_type": "text"
      },
      "source": [
        "<a href=\"https://colab.research.google.com/github/Yelitza22/Investigaci-n-de-operaciones-I/blob/main/Piedra%20papel%20o%20tijera.ipynb\" target=\"_parent\"><img src=\"https://colab.research.google.com/assets/colab-badge.svg\" alt=\"Open In Colab\"/></a>"
      ]
    },
    {
      "cell_type": "markdown",
      "source": [
        "#Piedra, papel o tijeras\n",
        "Dos jugadores (A y B) eligen simultáneamente entre \"Piedra\", \"Papel\" o \"Tijera\".\n",
        "\n",
        "Las reglas son:\n",
        "*   Piedra vence a Tijera.\n",
        "*   Tijera vence a Papel.\n",
        "*   Papel vence a Piedra.\n",
        "\n",
        "En un juego de suma cero, lo que un jugador gana es igual a lo que el otro pierde.\n",
        "\n",
        "El objetivo es encontrar el Equilibrio de Nash mixto, es decir, una estrategia probabilística donde cada jugador no puede mejorar su resultado unilateralmente."
      ],
      "metadata": {
        "id": "DR_p2k4BZSVn"
      }
    },
    {
      "cell_type": "code",
      "execution_count": 1,
      "metadata": {
        "id": "3SgeO6cEY9Fu"
      },
      "outputs": [],
      "source": [
        "import numpy as np"
      ]
    },
    {
      "cell_type": "markdown",
      "source": [
        "#Matriz de Pagos\n",
        "La matriz de pagos para el jugador A es la siguiente:"
      ],
      "metadata": {
        "id": "Md7eyT3CZxUe"
      }
    },
    {
      "cell_type": "code",
      "source": [
        "# Definimos la matriz de pagos para el jugador A\n",
        "payoff_matrix = np.array([[0, -1, 1],   # Piedra\n",
        "                          [1, 0, -1],   # Papel\n",
        "                          [-1, 1, 0]])  # Tijera"
      ],
      "metadata": {
        "id": "vgAGgcxKZA84"
      },
      "execution_count": 2,
      "outputs": []
    },
    {
      "cell_type": "code",
      "source": [
        "acciones = [\"Piedra\", \"Papel\", \"Tijera\"]"
      ],
      "metadata": {
        "id": "UfmAqpVsZEfv"
      },
      "execution_count": 3,
      "outputs": []
    },
    {
      "cell_type": "code",
      "source": [
        "# Función para calcular el equilibrio de Nash mixto\n",
        "def equilibrio_nash_mixto(payoff_matrix):\n",
        "    n_acciones = payoff_matrix.shape[0]\n",
        "\n",
        "    # Asumimos que cada jugador elige cada acción con igual probabilidad\n",
        "    estrategia = np.full(n_acciones, 1 / n_acciones)\n",
        "    return estrategia"
      ],
      "metadata": {
        "id": "WPaaN7M_ZHUG"
      },
      "execution_count": 7,
      "outputs": []
    },
    {
      "cell_type": "code",
      "source": [
        "# Calcular el equilibrio de Nash mixto\n",
        "estrategia_mixta = equilibrio_nash_mixto(payoff_matrix)"
      ],
      "metadata": {
        "id": "2e5CE3ikZKGX"
      },
      "execution_count": 8,
      "outputs": []
    },
    {
      "cell_type": "code",
      "source": [
        "# Imprimir los resultados\n",
        "print(\"Equilibrio de Nash mixto:\")\n",
        "for accion, probabilidad in zip(acciones, estrategia_mixta):\n",
        "    print(f\"{accion}: {probabilidad:.2f}\")"
      ],
      "metadata": {
        "colab": {
          "base_uri": "https://localhost:8080/"
        },
        "id": "IA9LA56yZMnd",
        "outputId": "726ba55b-2e84-4881-89a4-83b80449e652"
      },
      "execution_count": 6,
      "outputs": [
        {
          "output_type": "stream",
          "name": "stdout",
          "text": [
            "Equilibrio de Nash mixto:\n",
            "Piedra: 0.33\n",
            "Papel: 0.33\n",
            "Tijera: 0.33\n"
          ]
        }
      ]
    },
    {
      "cell_type": "markdown",
      "source": [
        "#Equilibrio de Nash Mixto\n",
        "El equilibrio de Nash mixto sugiere que cada jugador debe elegir Piedra, Papel o Tijera con una probabilidad del 33.33%.\n",
        "\n",
        "En este equilibrio, ninguno de los jugadores tiene incentivos para desviarse de esta estrategia, ya que hacerlo no mejorará su resultado esperado.\n",
        "\n",
        "Este equilibrio es estable porque cada jugador está maximizando su probabilidad de ganar al asumir que el otro jugador también sigue esta estrategia.\n",
        "\n",
        "Si alguno de los jugadores cambia su estrategia (por ejemplo, elige Piedra con una probabilidad mayor), el otro jugador puede explotarlo eligiendo Papel más a menudo."
      ],
      "metadata": {
        "id": "0IShuASVZ3qW"
      }
    }
  ]
}