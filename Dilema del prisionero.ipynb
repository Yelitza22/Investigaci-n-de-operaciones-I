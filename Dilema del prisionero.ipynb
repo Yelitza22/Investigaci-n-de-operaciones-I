{
  "nbformat": 4,
  "nbformat_minor": 0,
  "metadata": {
    "colab": {
      "provenance": [],
      "authorship_tag": "ABX9TyNIH9CTXKVxV47Kj1TuPRou",
      "include_colab_link": true
    },
    "kernelspec": {
      "name": "python3",
      "display_name": "Python 3"
    },
    "language_info": {
      "name": "python"
    }
  },
  "cells": [
    {
      "cell_type": "markdown",
      "metadata": {
        "id": "view-in-github",
        "colab_type": "text"
      },
      "source": [
        "<a href=\"https://colab.research.google.com/github/Yelitza22/Investigaci-n-de-operaciones-I/blob/main/Dilema%20del%20prisionero.ipynb\" target=\"_parent\"><img src=\"https://colab.research.google.com/assets/colab-badge.svg\" alt=\"Open In Colab\"/></a>"
      ]
    },
    {
      "cell_type": "markdown",
      "source": [
        "#El Dilema del Prisionero\n",
        "El Dilema del Prisionero es uno de los ejemplos más famosos en la Teoría de Juegos. Se trata de un juego no cooperativo de suma no cero que muestra cómo dos individuos racionales podrían no cooperar, aunque cooperar sea lo mejor para ambos.\n",
        "\n",
        "#Escenario\n",
        "Dos criminales (A y B) son arrestados y puestos en celdas separadas. Cada uno tiene dos opciones:\n",
        "\n",
        "*   Cooperar con el otro (callarse).\n",
        "*   Traicionar al otro (confesar).\n",
        "\n",
        "La policía les ofrece el mismo trato:\n",
        "\n",
        "*   Si ambos cooperan y se callan, recibirán una sentencia leve (1 año cada uno).\n",
        "*   Si uno traiciona y el otro coopera, el traidor será libre y el que cooperó recibirá una sentencia severa (10 años).\n",
        "*   Si ambos traicionan, ambos recibirán una sentencia moderada (4 años cada uno).\n",
        "\n",
        "\n",
        "\n",
        "\n"
      ],
      "metadata": {
        "id": "cXqgpuKmVX2G"
      }
    },
    {
      "cell_type": "code",
      "execution_count": 15,
      "metadata": {
        "id": "gakzXMZegsQ6"
      },
      "outputs": [],
      "source": [
        "import numpy as np"
      ]
    },
    {
      "cell_type": "markdown",
      "source": [
        "#Matriz de pagos\n",
        "La matriz de pagos representa los años de cárcel que cada jugador recibirá en función de sus decisiones:"
      ],
      "metadata": {
        "id": "Qz2iCFFiXQ0F"
      }
    },
    {
      "cell_type": "code",
      "source": [
        "# Matriz de pagos: [Cooperar, Traicionar]\n",
        "payoffs = np.array([[(1, 1), (10, 0)],  # Jugador A coopera(calla)\n",
        "                    [(0, 10), (4, 4)]]) # Jugador A traiciona"
      ],
      "metadata": {
        "id": "ELzcIyI1gvNj"
      },
      "execution_count": 16,
      "outputs": []
    },
    {
      "cell_type": "markdown",
      "source": [
        "#Análisis del Juego\n",
        "Si ambos cooperan: ambos reciben 1 año de cárcel.\n",
        "\n",
        "Si uno coopera y el otro traiciona: El traidor queda libre y el otro recibe 10 años.\n",
        "\n",
        "Si ambos traicionan: Ambos reciben 4 años.\n",
        "\n",
        "# ¿Qué haría un jugador racional?\n",
        "*   Si A cree que B va a cooperar, lo mejor para A es traicionar (0 años en lugar de 1).\n",
        "*   Si A cree que B va a traicionar, lo mejor para A también es traicionar (4 años en lugar de 10).\n",
        "\n"
      ],
      "metadata": {
        "id": "lRhjTAsRXhDd"
      }
    },
    {
      "cell_type": "code",
      "source": [
        "acciones = ['Cooperar', 'Traicionar']\n",
        "for i, a1 in enumerate(acciones):\n",
        "    for j, a2 in enumerate(acciones):\n",
        "        print(f\"Si Jugador A elige {a1} y Jugador B elige {a2}, los pagos son: {payoffs[i][j]}\")"
      ],
      "metadata": {
        "colab": {
          "base_uri": "https://localhost:8080/"
        },
        "id": "Fa2u4zJChFtT",
        "outputId": "c305ca31-8a3a-46c4-9de2-bc9d2202dc32"
      },
      "execution_count": 13,
      "outputs": [
        {
          "output_type": "stream",
          "name": "stdout",
          "text": [
            "Si Jugador A elige Cooperar y Jugador B elige Cooperar, los pagos son: [1 1]\n",
            "Si Jugador A elige Cooperar y Jugador B elige Traicionar, los pagos son: [10  0]\n",
            "Si Jugador A elige Traicionar y Jugador B elige Cooperar, los pagos son: [ 0 10]\n",
            "Si Jugador A elige Traicionar y Jugador B elige Traicionar, los pagos son: [4 4]\n"
          ]
        }
      ]
    },
    {
      "cell_type": "markdown",
      "source": [
        "#Equilibrio de Nash\n",
        "El Equilibrio de Nash es un concepto clave en la Teoría de Juegos que ocurre cuando ningún jugador puede mejorar su situación cambiando solo su estrategia, dado que los demás jugadores no cambian la suya.\n",
        "\n",
        "#Aplicado al Dilema del Prisionero:\n",
        "El equilibrio de Nash en el Dilema del Prisionero ocurre cuando ambos jugadores traicionan.\n",
        "\n",
        "¿Por qué?\n",
        "Si uno de los jugadores intenta cambiar su estrategia unilateralmente (pasar de traicionar a cooperar), su situación empeora:\n",
        "\n",
        "Si A decide cooperar mientras B traiciona, A recibirá 10 años (en lugar de 4).\n",
        "\n",
        "Si B decide cooperar mientras A traiciona, B recibirá 10 años (en lugar de 4).\n",
        "\n",
        "Por lo tanto, (traicionar, traicionar) es un Equilibrio de Nash."
      ],
      "metadata": {
        "id": "xma_6v_7Uw2V"
      }
    },
    {
      "cell_type": "code",
      "source": [
        "# Equilibrio de Nash:\n",
        "print(\"\\nEquilibrio de Nash: Ambos jugadores traicionan (4, 4).\")"
      ],
      "metadata": {
        "colab": {
          "base_uri": "https://localhost:8080/"
        },
        "id": "7dOnRyg-UQmG",
        "outputId": "203c11b6-6ef3-4a36-f456-a84df6c3a39f"
      },
      "execution_count": 12,
      "outputs": [
        {
          "output_type": "stream",
          "name": "stdout",
          "text": [
            "\n",
            "Equilibrio de Nash: Ambos jugadores traicionan (4, 4).\n"
          ]
        }
      ]
    }
  ]
}